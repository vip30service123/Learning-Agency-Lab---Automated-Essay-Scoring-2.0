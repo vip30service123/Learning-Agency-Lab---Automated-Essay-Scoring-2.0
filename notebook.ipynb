{
 "cells": [
  {
   "cell_type": "code",
   "execution_count": 2,
   "metadata": {},
   "outputs": [],
   "source": [
    "import pandas as pd"
   ]
  },
  {
   "cell_type": "code",
   "execution_count": 4,
   "metadata": {},
   "outputs": [],
   "source": [
    "df = pd.read_csv(\"data/train.csv\")"
   ]
  },
  {
   "cell_type": "code",
   "execution_count": 5,
   "metadata": {},
   "outputs": [
    {
     "data": {
      "text/html": [
       "<div>\n",
       "<style scoped>\n",
       "    .dataframe tbody tr th:only-of-type {\n",
       "        vertical-align: middle;\n",
       "    }\n",
       "\n",
       "    .dataframe tbody tr th {\n",
       "        vertical-align: top;\n",
       "    }\n",
       "\n",
       "    .dataframe thead th {\n",
       "        text-align: right;\n",
       "    }\n",
       "</style>\n",
       "<table border=\"1\" class=\"dataframe\">\n",
       "  <thead>\n",
       "    <tr style=\"text-align: right;\">\n",
       "      <th></th>\n",
       "      <th>essay_id</th>\n",
       "      <th>full_text</th>\n",
       "      <th>score</th>\n",
       "    </tr>\n",
       "  </thead>\n",
       "  <tbody>\n",
       "    <tr>\n",
       "      <th>0</th>\n",
       "      <td>000d118</td>\n",
       "      <td>Many people have car where they live. The thin...</td>\n",
       "      <td>3</td>\n",
       "    </tr>\n",
       "    <tr>\n",
       "      <th>1</th>\n",
       "      <td>000fe60</td>\n",
       "      <td>I am a scientist at NASA that is discussing th...</td>\n",
       "      <td>3</td>\n",
       "    </tr>\n",
       "    <tr>\n",
       "      <th>2</th>\n",
       "      <td>001ab80</td>\n",
       "      <td>People always wish they had the same technolog...</td>\n",
       "      <td>4</td>\n",
       "    </tr>\n",
       "    <tr>\n",
       "      <th>3</th>\n",
       "      <td>001bdc0</td>\n",
       "      <td>We all heard about Venus, the planet without a...</td>\n",
       "      <td>4</td>\n",
       "    </tr>\n",
       "    <tr>\n",
       "      <th>4</th>\n",
       "      <td>002ba53</td>\n",
       "      <td>Dear, State Senator\\n\\nThis is a letter to arg...</td>\n",
       "      <td>3</td>\n",
       "    </tr>\n",
       "  </tbody>\n",
       "</table>\n",
       "</div>"
      ],
      "text/plain": [
       "  essay_id                                          full_text  score\n",
       "0  000d118  Many people have car where they live. The thin...      3\n",
       "1  000fe60  I am a scientist at NASA that is discussing th...      3\n",
       "2  001ab80  People always wish they had the same technolog...      4\n",
       "3  001bdc0  We all heard about Venus, the planet without a...      4\n",
       "4  002ba53  Dear, State Senator\\n\\nThis is a letter to arg...      3"
      ]
     },
     "execution_count": 5,
     "metadata": {},
     "output_type": "execute_result"
    }
   ],
   "source": [
    "df.head()"
   ]
  },
  {
   "cell_type": "code",
   "execution_count": 12,
   "metadata": {},
   "outputs": [
    {
     "name": "stdout",
     "output_type": "stream",
     "text": [
      "Many people have car where they live. The thing they don't know is that when you use a car alot\n",
      "of thing can happen like you can get in accidet or the smoke that the car has is bad to\n",
      "breath on if someone is walk but in VAUBAN,Germany they dont have that proble because 70 percent of vauban's families\n",
      "do not own cars,and 57 percent sold a car to move there. Street parkig ,driveways and home garages are forbidden\n",
      "on the outskirts of freiburd that near the French and Swiss borders. You probaly won't see a car in Vauban's\n",
      "streets because they are completely \"car free\" but If some that lives in VAUBAN that owns a car ownership is\n",
      "allowed,but there are only two places that you can park a large garages at the edge of the development,where a\n",
      "car owner buys a space but it not cheap to buy one they sell the space for you car for\n",
      "$40,000 along with a home. The vauban people completed this in 2006 ,they said that this an example of a\n",
      "growing trend in Europe,The untile states and some where else are suburban life from auto use this is called \"smart\n",
      "planning\". The current efforts to drastically reduce greenhouse gas emissions from tailes the passengee cars are responsible for 12 percent\n",
      "of greenhouse gas emissions in Europe and up to 50 percent in some car intensive in the United States. I\n",
      "honeslty think that good idea that they did that is Vaudan because that makes cities denser and better for walking\n",
      "and in VAUBAN there are 5,500 residents within a rectangular square mile. In the artical David Gold berg said that\n",
      "\"All of our development since World war 2 has been centered on the cars,and that will have to change\" and\n",
      "i think that was very true what David Gold said because alot thing we need cars to do we can\n",
      "go anyway were with out cars beacuse some people are a very lazy to walk to place thats why they\n",
      "alot of people use car and i think that it was a good idea that that they did that in\n",
      "VAUBAN so people can see how we really don't need car to go to place from place because we can\n",
      "walk from were we need to go or we can ride bycles with out the use of a car. It\n",
      "good that they are doing that if you thik about your help the earth in way and thats a very\n",
      "good thing to. In the United states ,the Environmental protection Agency is promoting what is called \"car reduced\"communtunties,and the legislators\n",
      "are starting to act,if cautiously. Maany experts expect pubic transport serving suburbs to play a much larger role in a\n",
      "new six years federal transportation bill to approved this year. In previous bill,80 percent of appropriations have by law gone\n",
      "to highways and only 20 percent to other transports. There many good reason why they should do this.\n"
     ]
    }
   ],
   "source": [
    "text = df.full_text[0]\n",
    "words = text.split()\n",
    "for i in range(len(words) // 20 + 1):\n",
    "    print(\" \".join(words[i*20:(i+1)*20]))\n"
   ]
  },
  {
   "cell_type": "code",
   "execution_count": null,
   "metadata": {},
   "outputs": [],
   "source": [
    "text = df.full_text[0]\n",
    "for i in range(len(text) // 200 + 1):\n",
    "    print(text[i*200:(i+1)*200])"
   ]
  }
 ],
 "metadata": {
  "kernelspec": {
   "display_name": "scoring",
   "language": "python",
   "name": "python3"
  },
  "language_info": {
   "codemirror_mode": {
    "name": "ipython",
    "version": 3
   },
   "file_extension": ".py",
   "mimetype": "text/x-python",
   "name": "python",
   "nbconvert_exporter": "python",
   "pygments_lexer": "ipython3",
   "version": "3.12.2"
  }
 },
 "nbformat": 4,
 "nbformat_minor": 2
}
